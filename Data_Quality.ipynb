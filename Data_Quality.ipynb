{
 "cells": [
  {
   "cell_type": "code",
   "execution_count": 2,
   "metadata": {
    "collapsed": true
   },
   "outputs": [],
   "source": [
    "#Course_code\n",
    "import xml.etree.cElementTree as ET\n",
    "from collections import defaultdict\n",
    "import re"
   ]
  },
  {
   "cell_type": "code",
   "execution_count": null,
   "metadata": {
    "collapsed": true
   },
   "outputs": [],
   "source": [
    "osm_file = open(\"chicago_abbrev.osm\",\"r\")"
   ]
  },
  {
   "cell_type": "code",
   "execution_count": null,
   "metadata": {
    "collapsed": true
   },
   "outputs": [],
   "source": [
    "street_type_re = re.compile(r'\\S+\\.?$',re.IGNORECASE) #extract street info.\n",
    "street_types = defaultdict(int)"
   ]
  },
  {
   "cell_type": "code",
   "execution_count": null,
   "metadata": {
    "collapsed": true
   },
   "outputs": [],
   "source": [
    "def audit_street_type(street_types, street_name):\n",
    "    m = street_type_re.search(street_name)\n",
    "    if m:\n",
    "        street_type = m.group()\n",
    "        street_types[street_type] +=1"
   ]
  },
  {
   "cell_type": "code",
   "execution_count": null,
   "metadata": {
    "collapsed": true
   },
   "outputs": [],
   "source": [
    "def print_sorted_dict(d):\n",
    "    keys = d.keys()\n",
    "    keys = sorted(keys,key=lambda s:s.lower())\n",
    "    for k in keys:\n",
    "        v = d[k]\n",
    "        print \"%s: %d\" %(k, v)"
   ]
  },
  {
   "cell_type": "code",
   "execution_count": null,
   "metadata": {
    "collapsed": true
   },
   "outputs": [],
   "source": [
    "def is_street_name(elem):\n",
    "    return (elem.tag ==\"tag\") and (elem.attrib['k'] == \"addr:street\")\n",
    "\n",
    "def audit():\n",
    "    for event, elem in ET.iterparse(osm_file):\n",
    "        if is_street_name(elem):\n",
    "            audit_street_type(street_types, elem.attrib['v'])\n",
    "    print_sorted_dict(street_types)\n",
    "    \n",
    "if __name__ =='__main__':\n",
    "    audit()"
   ]
  },
  {
   "cell_type": "code",
   "execution_count": null,
   "metadata": {
    "collapsed": true
   },
   "outputs": [],
   "source": [
    "#auditing a cross_field constraint\n",
    "def ensure_float(v):\n",
    "    if is_numnber(v):\n",
    "        return float(v)\n",
    "    \n",
    "def audit_population_density(input_file):\n",
    "    for row in input_file:\n",
    "        population = ensure_float(row['populationTotal'])\n",
    "        area = ensure_float(row['areaLand'])\n",
    "        population_density = ensure_float(row['populationDensity'])\n",
    "        if population and area and population_density:\n",
    "            calculated_density = population / area\n",
    "            if math.fabs(calculated_density - population_density) >10:\n",
    "                print \"Possibly bad population density for \", row['name']\n",
    "if __name__=='__main__':\n",
    "    input_file = csv.DictReader(open(\"cities.csv\"))\n",
    "    skip_lines(input_file, 3)\n",
    "    audit_population_density(input_file)"
   ]
  },
  {
   "cell_type": "code",
   "execution_count": null,
   "metadata": {
    "collapsed": true
   },
   "outputs": [],
   "source": [
    "#Quiz\n",
    "import csv\n",
    "import pprint\n",
    "\n",
    "Input_File = 'auto.csv'\n",
    "Output_Good = 'autos-valid.csv'\n",
    "Output_Bad = 'fixme-autos.csv'\n",
    "\n",
    "def process_file(input_file, output_good, output_bad):\n",
    "    #store data into output lists\n",
    "    data_good = []\n",
    "    data_bad = []\n",
    "    with open(input_file, \"r\") as f:\n",
    "        reader = csv.DictReader(f)\n",
    "        header = reader.fieldnames\n",
    "        for row in reader:\n",
    "            #validate URI value\n",
    "            if row['URI'].find(\"dbpedia.org\") <0:\n",
    "                continue\n",
    "            \n",
    "            ps_year = row['productionStartYear'][:4]\n",
    "            try:# use try/except to filter valid items\n",
    "                ps_year = int(ps_year)\n",
    "                row['productionStartYear'] = ps_year\n",
    "                if (ps_year >=1886) and (ps_year <=2014):\n",
    "                    data_good.append(row)\n",
    "                else:\n",
    "                    data_bad.append(row)\n",
    "            except ValueError: #non-numeric strings caught by exception\n",
    "                if ps_year =='NULL':\n",
    "                    data_bad.append(row)\n",
    "                \n",
    "        \n",
    "#write outputs\n",
    "    with open(output_good, \"w\") as g:\n",
    "        writer = csv.DictWriter(g, delimiter= \",\", fieldnames = header)\n",
    "        writer.writeheader()\n",
    "        for row in data_good:\n",
    "            writer.writerow(row)\n",
    "            \n",
    "    with open(output_bad, \"w\") as b:\n",
    "        writer = csv.DictWriter(b, delimiter= \",\", fieldnames = header)\n",
    "        writer.writeheader()\n",
    "        for row in data_bad:\n",
    "            writer.writerow(row)\n",
    "            \n",
    "def test():\n",
    "    process_file(Input_File, Output_Good, Output_Bad)\n",
    "    \n",
    "if __name__==\"__main__\":\n",
    "    test()\n"
   ]
  },
  {
   "cell_type": "code",
   "execution_count": null,
   "metadata": {
    "collapsed": true
   },
   "outputs": [],
   "source": [
    "#course code\n",
    "#Audting accuracy\n",
    "client = MongoClient('mongodb://localhost:27017')\n",
    "db = client.examples\n",
    "\n",
    "def skip_lines(input_file, skip):\n",
    "    for i in range(0,skip):\n",
    "        next(input_file)\n",
    "def audit_country(input_file):\n",
    "    for row in input_file:\n",
    "        country = row['country_label']\n",
    "        country = country.strip()\n",
    "        if (country == \"NULL\") or (country = \"\"):\n",
    "            continue\n",
    "        if db.countries.find({\"name\":country}).count()!=1:\n",
    "            print \"Not found:\", country\n",
    "            \n",
    "if __name__==\"__main__\":\n",
    "    input_file = csv.DictReader(open(\"cities.csv\"))\n"
   ]
  },
  {
   "cell_type": "code",
   "execution_count": null,
   "metadata": {
    "collapsed": true
   },
   "outputs": [],
   "source": [
    "#auditing uniformity\n",
    "import csv\n",
    "import pprint\n",
    "\n",
    "filename = \"wgs84_pos#lat\"\n",
    "minval = -90\n",
    "maxval = 90\n",
    "\n",
    "def skip_lines(input_file, skip):\n",
    "    for i in range(0,skip):\n",
    "        next(input_file)\n",
    "\n",
    "def is_number(s):\n",
    "    try:\n",
    "        float(s)\n",
    "        return True\n",
    "    except ValueError:\n",
    "        return False\n",
    "    \n",
    "def audit_float_field(v, counts):\n",
    "    v = v.strip()\n",
    "    if v ==\"NULL\":v\n",
    "        counts['nulls']+=1\n",
    "    elif v ==\"\":\n",
    "        counts['empties']+=1\n",
    "    elif is_array(v):\n",
    "        counts['arrays']+=1\n",
    "    elif not is_number(v):\n",
    "        print \"Found non number:\", v\n",
    "    else:\n",
    "        v = float(v)\n",
    "        if not ((minval < v) and (v <maxval)):\n",
    "            print \"Found out of range value\", v\n",
    "        \n",
    "    \n",
    "\n",
    "if __name__==\"__main__\":\n",
    "    input_file = csv.DictReader(open(\"cities3.csv\"))\n",
    "    skip_lines(input_file,3)\n",
    "    counts = {\"nulls\":0, \"empties\":0, \"arrays\":0}\n",
    "    nrow = 0\n",
    "    for row in input_file:\n",
    "        audit_float_field(row[fieldname],counts)\n",
    "        nrow +=1\n",
    "    print \"num cities:\",nrow\n",
    "    print \"nulls:\",counts['null']\n",
    "    print \"empties:\",counts['empties']\n",
    "    print \"arrays:\",counts['arrays']\n",
    "    "
   ]
  }
 ],
 "metadata": {
  "kernelspec": {
   "display_name": "Python 2",
   "language": "python",
   "name": "python2"
  },
  "language_info": {
   "codemirror_mode": {
    "name": "ipython",
    "version": 2
   },
   "file_extension": ".py",
   "mimetype": "text/x-python",
   "name": "python",
   "nbconvert_exporter": "python",
   "pygments_lexer": "ipython2",
   "version": "2.7.13"
  }
 },
 "nbformat": 4,
 "nbformat_minor": 2
}
